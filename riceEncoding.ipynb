{
 "cells": [
  {
   "cell_type": "markdown",
   "id": "4b5b3ff6",
   "metadata": {},
   "source": [
    "# Exercise 2\n",
    "This exercise aims to perform rice encoding and decoding on Sound1.wav and Sound2.wav, with bit lengths 4 and 2.\n",
    "## Rice encode function\n",
    "The rice_encode() function takes in a value and bit length k, and returns the rice-encoded value."
   ]
  },
  {
   "cell_type": "code",
   "execution_count": 1,
   "id": "6cb1fec2",
   "metadata": {},
   "outputs": [],
   "source": [
    "def rice_encode(value, k):\n",
    "    # Calculate quotient and remainder\n",
    "    quotient = value // (2 ** k)\n",
    "    remainder = value % (2 ** k)\n",
    "    \n",
    "    # Encoded quotient is <quotient> number of '1's followed by '0'\n",
    "    encoded_quotient = '1' * quotient + '0'\n",
    "    \n",
    "    # Encoded remainder is the remainder converted to binary\n",
    "    encoded_remainder = format(remainder, '0{}b'.format(k))\n",
    "    \n",
    "    # Return encoded value\n",
    "    return encoded_quotient + encoded_remainder"
   ]
  },
  {
   "cell_type": "markdown",
   "id": "5a36c056",
   "metadata": {},
   "source": [
    "## Rice decode function\n",
    "The rice_decode() function takes in a value and bit length k, and returns the rice-decoded value."
   ]
  },
  {
   "cell_type": "code",
   "execution_count": 2,
   "id": "df4f7400",
   "metadata": {},
   "outputs": [],
   "source": [
    "def rice_decode(value, k):\n",
    "    # Decoded quotient is the number of '1's before the first '0'\n",
    "    decoded_quotient = value.find('0')\n",
    "    \n",
    "    # Decoded remainder is the remainder converted to integer\n",
    "    remainder = value[decoded_quotient + 1:]\n",
    "    decoded_remainder = 0\n",
    "    power = len(remainder) - 1\n",
    "    \n",
    "    for digit in remainder:\n",
    "        decoded_remainder += int(digit) * (2 ** power)\n",
    "        power -= 1\n",
    "        \n",
    "    # Return decoded value\n",
    "    return decoded_quotient * (2 ** k) + decoded_remainder"
   ]
  },
  {
   "cell_type": "markdown",
   "id": "5f75b57d",
   "metadata": {},
   "source": [
    "## Encode file function\n",
    "The encode_file() function takes in an original file, encoded file and bit length k. It calls the rice_encode() function on each value in the original file and writes each encoded value to the encoded file."
   ]
  },
  {
   "cell_type": "code",
   "execution_count": 3,
   "id": "f81d84b6",
   "metadata": {},
   "outputs": [],
   "source": [
    "def encode_file(original_file, encoded_file, k):\n",
    "    # Open original_file in binary read mode\n",
    "    with open(original_file, 'rb') as original_f:\n",
    "        # Open encoded_file in binary write mode\n",
    "        with open(encoded_file, 'wb') as encoded_f:\n",
    "            # Rice encodes each value in original_file and writes to encoded_file\n",
    "            original_data = original_f.read()\n",
    "            \n",
    "            for value in original_data:\n",
    "                e = rice_encode(value, k) + '\\n'\n",
    "                encoded_f.write(e.encode())"
   ]
  },
  {
   "cell_type": "markdown",
   "id": "a115a2d9",
   "metadata": {},
   "source": [
    "## Decode file function\n",
    "The decode_file() function takes in an encoded file, decoded file and bit length k. It calls the rice_decode() function on each value in the encoded file and writes each decoded value to the decoded file."
   ]
  },
  {
   "cell_type": "code",
   "execution_count": 4,
   "id": "e9b5a0d2",
   "metadata": {},
   "outputs": [],
   "source": [
    "def decode_file(encoded_file, decoded_file, k):\n",
    "    # Open encoded_file in binary read mode\n",
    "    with open(encoded_file, 'rb') as encoded_f:\n",
    "        # Open decoded_file in binary write mode\n",
    "        with open(decoded_file, 'wb') as decoded_f:\n",
    "            # Rice decodes each value in encoded_file and writes to decoded_file\n",
    "            decoded_data = []\n",
    "            \n",
    "            for value in encoded_f:\n",
    "                d = rice_decode(value.decode('utf8').strip(), k)\n",
    "                decoded_data.append(d)\n",
    "                \n",
    "            decoded_f.write(bytearray(decoded_data))"
   ]
  },
  {
   "cell_type": "markdown",
   "id": "828c72b5",
   "metadata": {},
   "source": [
    "## Encoding and decoding Sound1.wav and Sound2.wav"
   ]
  },
  {
   "cell_type": "code",
   "execution_count": 5,
   "id": "7a3daf6c",
   "metadata": {
    "scrolled": true
   },
   "outputs": [
    {
     "name": "stdout",
     "output_type": "stream",
     "text": [
      "Sound1.wav\n",
      "Original size: 1.00 MB\n",
      "Rice (K = 4 bits): 13.13 MB\n",
      "% Compression (K = 4 bits): -1210.48%\n",
      "Rice (K = 2 bits): 33.93 MB\n",
      "% Compression (K = 2 bits): -3285.71%\n",
      "\n",
      "\n",
      "Sound2.wav\n",
      "Original size: 1.01 MB\n",
      "Rice (K = 4 bits): 13.61 MB\n",
      "% Compression (K = 4 bits): -1250.22%\n",
      "Rice (K = 2 bits): 35.80 MB\n",
      "% Compression (K = 2 bits): -3451.12%\n",
      "\n",
      "\n"
     ]
    }
   ],
   "source": [
    "import os\n",
    "        \n",
    "audio_files = ['Sound1.wav', 'Sound2.wav']\n",
    "bit_lengths = [4, 2]\n",
    "\n",
    "for audio_file in audio_files:\n",
    "    print(audio_file)\n",
    "    print(f'Original size: {(os.path.getsize(audio_file) / 1000000):.2f} MB')\n",
    "    \n",
    "    for bit_length in bit_lengths:\n",
    "        encoded_file = f'{audio_file.split(\".\")[0]}_Enc_k{bit_length}.ex2'\n",
    "        decoded_file = f'{audio_file.split(\".\")[0]}_Enc_Dec_k{bit_length}.wav'\n",
    "        \n",
    "        encode_file(audio_file, encoded_file, bit_length)\n",
    "        decode_file(encoded_file, decoded_file, bit_length)\n",
    "        \n",
    "        print(f'Rice (K = {bit_length} bits): {(os.path.getsize(encoded_file) / 1000000):.2f} MB')\n",
    "        print(f'% Compression (K = {bit_length} bits): {((os.path.getsize(audio_file) - os.path.getsize(encoded_file)) / os.path.getsize(audio_file) * 100):.2f}%')\n",
    "        \n",
    "    print('\\n')"
   ]
  }
 ],
 "metadata": {
  "kernelspec": {
   "display_name": "Python 3 (ipykernel)",
   "language": "python",
   "name": "python3"
  },
  "language_info": {
   "codemirror_mode": {
    "name": "ipython",
    "version": 3
   },
   "file_extension": ".py",
   "mimetype": "text/x-python",
   "name": "python",
   "nbconvert_exporter": "python",
   "pygments_lexer": "ipython3",
   "version": "3.11.5"
  }
 },
 "nbformat": 4,
 "nbformat_minor": 5
}
